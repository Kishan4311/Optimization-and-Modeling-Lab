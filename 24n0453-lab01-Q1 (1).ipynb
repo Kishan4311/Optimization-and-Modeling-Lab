{
 "cells": [
  {
   "cell_type": "markdown",
   "id": "2eed7991",
   "metadata": {},
   "source": [
    "### Ques 1"
   ]
  },
  {
   "cell_type": "code",
   "execution_count": 5,
   "id": "6259f605-3980-4c8f-8b74-504b2a459765",
   "metadata": {},
   "outputs": [
    {
     "name": "stdout",
     "output_type": "stream",
     "text": [
      "Requirement already satisfied: gurobipy in c:\\users\\dell\\appdata\\local\\programs\\python\\python312\\lib\\site-packages (12.0.0)\n"
     ]
    }
   ],
   "source": [
    "!pip install gurobipy"
   ]
  },
  {
   "cell_type": "markdown",
   "id": "9d1ed6c4",
   "metadata": {},
   "source": [
    "### Formulation\n",
    "\n",
    " **Variables**:\n",
    "- $( y_j )$: Number of times combination j  is used (non-negative integer).\n",
    "- $( x_{j,i} )$: Amount of resource i  used by combination  j.\n",
    "- $( t_i )$: Total amount of resource  i  used.\n",
    "\n",
    "**Objective**:\n",
    "Minimize the total number of rolls used:\n",
    "\n",
    "$ \\min \\left( \\sum_{j} y_j \\right)$\n",
    "\n",
    "**Constraints**:\n",
    "1. Demand for each resource i must be satisfied:\n",
    "\n",
    "$ \\sum_{j} x_{j,i} \\cdot y_j \\geq b_i \\quad \\forall i $\n",
    "\n",
    "2. Resource usage for each resource i :\n",
    "\n",
    "$ t_i = \\sum_{j} x_{j,i} \\cdot y_j \\quad \\forall i $\n",
    "\n",
    "3. $( y_j \\geq 0 )$ and integer for all \\( j \\).\n"
   ]
  },
  {
   "cell_type": "code",
   "execution_count": 6,
   "id": "77ae9acc",
   "metadata": {},
   "outputs": [],
   "source": [
    "from pyomo.environ import *\n",
    "\n",
    "L = 1030\n",
    "a = [1000, 980, 940, 640, 630, 60, 55, 50, 45, 40]\n",
    "b = [76, 50, 1189, 3876, 4187, 945, 817, 138, 1380, 140]\n",
    "\n",
    "def pt(a, L):\n",
    "    x = []\n",
    "    def pt1(p, r, k):\n",
    "        if k == len(a):\n",
    "            x.append(p[:])\n",
    "            return\n",
    "        pt1(p, r, k + 1)\n",
    "        if a[k] <= r:\n",
    "            p[k] += 1\n",
    "            pt1(p, r - a[k], k)\n",
    "            p[k] -= 1\n",
    "    pt1([0] * len(a), L, 0)\n",
    "    return x\n",
    "\n",
    "x = pt(a, L)"
   ]
  },
  {
   "cell_type": "code",
   "execution_count": 7,
   "id": "2aa43bb1",
   "metadata": {},
   "outputs": [],
   "source": [
    "def solve(x):\n",
    "    m = ConcreteModel()\n",
    "    m.y = Var(range(len(x)), within=NonNegativeIntegers)\n",
    "    m.z = Objective(expr=sum(m.y[j] for j in range(len(x))), sense=minimize)\n",
    "\n",
    "    def c(m, i):\n",
    "        return sum(x[j][i] * m.y[j] for j in range(len(x))) >= b[i]\n",
    "\n",
    "    m.d = ConstraintList()\n",
    "    for i in range(len(a)):\n",
    "        m.d.add(c(m, i))\n",
    "\n",
    "    solver = SolverFactory('gurobi')\n",
    "    result = solver.solve(m)\n",
    "\n",
    "    return m, m.z()"
   ]
  },
  {
   "cell_type": "code",
   "execution_count": 8,
   "id": "c08f3164",
   "metadata": {},
   "outputs": [],
   "source": [
    "def display(x, m, z):\n",
    "    print(f\"Minimum number of used rolls: {z:.0f}\")\n",
    "    for j in range(len(x)):\n",
    "        if m.y[j].value > 0:\n",
    "            print(f\"Combination {x[j]} used {m.y[j].value:.0f} times\")\n",
    "    \n",
    "    t = [0] * len(a)\n",
    "    for i in range(len(a)):\n",
    "        for j in range(len(x)):\n",
    "            if m.y[j].value > 0:\n",
    "                t[i] += x[j][i] * m.y[j].value\n",
    "    print(f\"Total resource usage: {t}\")"
   ]
  },
  {
   "cell_type": "code",
   "execution_count": 9,
   "id": "47c0a407",
   "metadata": {},
   "outputs": [
    {
     "name": "stdout",
     "output_type": "stream",
     "text": [
      "Minimum number of used rolls: 9378\n",
      "Combination [0, 0, 0, 0, 1, 0, 6, 0, 1, 0] used 1380 times\n",
      "Combination [0, 0, 0, 0, 1, 0, 6, 1, 0, 0] used 2807 times\n",
      "Combination [0, 0, 0, 1, 0, 1, 6, 0, 0, 0] used 3876 times\n",
      "Combination [0, 0, 1, 0, 0, 0, 0, 0, 0, 2] used 1189 times\n",
      "Combination [0, 1, 0, 0, 0, 0, 0, 0, 0, 1] used 50 times\n",
      "Combination [1, 0, 0, 0, 0, 0, 0, 0, 0, 0] used 76 times\n",
      "Total resource usage: [76.0, 50.0, 1189.0, 3876.0, 4187.0, 3876.0, 48378.0, 2807.0, 1380.0, 2428.0]\n"
     ]
    }
   ],
   "source": [
    "m, z = solve(x)\n",
    "display(x, m, z)"
   ]
  },
  {
   "cell_type": "code",
   "execution_count": 10,
   "id": "8634ae69",
   "metadata": {},
   "outputs": [],
   "source": [
    "L1 = 1030\n",
    "a1 = [1000, 980, 940, 920, 900, 710, 700, 650, 640, 630, 60, 55, 50, 45, 40]\n",
    "b = [76, 50, 1189, 2210, 987, 894, 2850, 6603, 3876, 4187, 945, 817, 138, 1380, 140]\n",
    "\n",
    "x1 = pt(a1, L1)\n"
   ]
  },
  {
   "cell_type": "code",
   "execution_count": 11,
   "id": "59aaf6cf",
   "metadata": {},
   "outputs": [
    {
     "name": "stdout",
     "output_type": "stream",
     "text": [
      "Minimum number of used rolls: 22922\n",
      "Combination [0, 0, 0, 0, 0, 0, 0, 0, 0, 1, 0, 0, 0, 0, 0] used 4187 times\n",
      "Combination [0, 0, 0, 0, 0, 0, 0, 0, 1, 0, 0, 0, 0, 0, 0] used 3876 times\n",
      "Combination [0, 0, 0, 0, 0, 0, 0, 1, 0, 0, 0, 0, 0, 0, 0] used 6603 times\n",
      "Combination [0, 0, 0, 0, 0, 0, 1, 0, 0, 0, 0, 0, 0, 0, 0] used 2850 times\n",
      "Combination [0, 0, 0, 0, 0, 1, 0, 0, 0, 0, 0, 0, 0, 0, 0] used 894 times\n",
      "Combination [0, 0, 0, 0, 1, 0, 0, 0, 0, 0, 0, 0, 0, 0, 0] used 987 times\n",
      "Combination [0, 0, 0, 1, 0, 0, 0, 0, 0, 0, 0, 0, 0, 0, 0] used 2210 times\n",
      "Combination [0, 0, 1, 0, 0, 0, 0, 0, 0, 0, 0, 0, 0, 0, 0] used 1189 times\n",
      "Combination [0, 1, 0, 0, 0, 0, 0, 0, 0, 0, 0, 0, 0, 0, 0] used 50 times\n",
      "Combination [1, 0, 0, 0, 0, 0, 0, 0, 0, 0, 0, 0, 0, 0, 0] used 76 times\n",
      "Total resource usage: [76.0, 50.0, 1189.0, 2210.0, 987.0, 894.0, 2850.0, 6603.0, 3876.0, 4187.0]\n"
     ]
    }
   ],
   "source": [
    "m, z = solve(x1)\n",
    "display(x1, m, z)"
   ]
  }
 ],
 "metadata": {
  "kernelspec": {
   "display_name": "Python 3",
   "language": "python",
   "name": "python3"
  },
  "language_info": {
   "codemirror_mode": {
    "name": "ipython",
    "version": 3
   },
   "file_extension": ".py",
   "mimetype": "text/x-python",
   "name": "python",
   "nbconvert_exporter": "python",
   "pygments_lexer": "ipython3",
   "version": "3.12.3"
  }
 },
 "nbformat": 4,
 "nbformat_minor": 5
}
