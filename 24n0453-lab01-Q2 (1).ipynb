{
 "cells": [
  {
   "cell_type": "markdown",
   "metadata": {},
   "source": [
    "### Ques 2"
   ]
  },
  {
   "cell_type": "code",
   "execution_count": 1,
   "metadata": {},
   "outputs": [
    {
     "name": "stdout",
     "output_type": "stream",
     "text": [
      "Number of maximal patterns for dataset1: 10064\n",
      "Number of maximal patterns for dataset2: 10785\n"
     ]
    }
   ],
   "source": [
    "def mp(sl, rl):\n",
    "    mpt = []\n",
    "    smallestSheet = min(sl)\n",
    "\n",
    "    def solver(cp, rmLength, i):\n",
    "        if i == len(sl):\n",
    "            if rmLength < smallestSheet:\n",
    "                mpt.append(cp[:])\n",
    "            return\n",
    "        solver(cp, rmLength, i + 1)\n",
    "        if sl[i] <= rmLength:\n",
    "            cp[i] += 1\n",
    "            solver(cp, rmLength - sl[i], i)\n",
    "            cp[i] -= 1\n",
    "\n",
    "    solver([0] * len(sl), rl, 0)\n",
    "    return mpt\n",
    "\n",
    "sheets1, roll1 = [1000, 980, 940, 640, 630, 60, 55, 50, 45, 40], 1030\n",
    "sheets2, roll2 = [1000, 980, 940, 920, 900, 710, 700, 650, 640, 630, 60, 55, 50, 45, 40], 1030\n",
    "patterns1 = mp(sheets1, roll1)\n",
    "patterns2 = mp(sheets2, roll2)\n",
    "\n",
    "print(f\"Number of maximal patterns for dataset1: {len(patterns1)}\")\n",
    "print(f\"Number of maximal patterns for dataset2: {len(patterns2)}\")\n"
   ]
  },
  {
   "cell_type": "markdown",
   "metadata": {},
   "source": [
    "### Algorithm\n",
    "1. Initialize an empty list `mpt` to store valid patterns.\n",
    "2. Define a recursive function `solver(cp, rmLength, i)`:\n",
    "   - If `i == len(sl)`, check if `rmLength < min(sl)` and add `cp` to `mpt`.\n",
    "   - Call `solver(cp, rmLength, i + 1)` (skip current sheet).\n",
    "   - If `sl[i] <= rmLength`, increment `cp[i]`, call `solver(cp, rmLength - sl[i], i)`, then decrement `cp[i]` (backtrack).\n",
    "3. Start recursion with initial values: `solver([0] * len(sl), rl, 0)`.\n",
    "4. Return the list `mpt` containing all valid maximal patterns.\n",
    "\n",
    "\n",
    "\n",
    "The running time grows exponentially due to the recursive exploration of all sheet combinations. This becomes computationally expensive as the number of sheets or roll length increases."
   ]
  }
 ],
 "metadata": {
  "kernelspec": {
   "display_name": "Python 3",
   "language": "python",
   "name": "python3"
  },
  "language_info": {
   "codemirror_mode": {
    "name": "ipython",
    "version": 3
   },
   "file_extension": ".py",
   "mimetype": "text/x-python",
   "name": "python",
   "nbconvert_exporter": "python",
   "pygments_lexer": "ipython3",
   "version": "3.12.3"
  }
 },
 "nbformat": 4,
 "nbformat_minor": 2
}
