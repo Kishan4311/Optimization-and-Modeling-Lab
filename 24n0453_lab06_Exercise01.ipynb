{
  "cells": [
    {
      "cell_type": "markdown",
      "metadata": {
        "id": "NDq2kLfDi_-9"
      },
      "source": [
        "## 1(2)"
      ]
    },
    {
      "cell_type": "code",
      "execution_count": 3,
      "metadata": {
        "colab": {
          "base_uri": "https://localhost:8080/"
        },
        "id": "2UAxSeO4y-J-",
        "outputId": "a0c882d9-24f0-416e-983a-199b367e65b3"
      },
      "outputs": [
        {
          "name": "stdout",
          "output_type": "stream",
          "text": [
            "Collecting pulp\n",
            "  Downloading PuLP-2.9.0-py3-none-any.whl.metadata (5.4 kB)\n",
            "Downloading PuLP-2.9.0-py3-none-any.whl (17.7 MB)\n",
            "\u001b[2K   \u001b[90m━━━━━━━━━━━━━━━━━━━━━━━━━━━━━━━━━━━━━━━━\u001b[0m \u001b[32m17.7/17.7 MB\u001b[0m \u001b[31m33.4 MB/s\u001b[0m eta \u001b[36m0:00:00\u001b[0m\n",
            "\u001b[?25hInstalling collected packages: pulp\n",
            "Successfully installed pulp-2.9.0\n",
            "Requirement already satisfied: pyomo in /usr/local/lib/python3.11/dist-packages (6.8.2)\n",
            "Requirement already satisfied: ply in /usr/local/lib/python3.11/dist-packages (from pyomo) (3.11)\n"
          ]
        }
      ],
      "source": [
        "!pip install pulp\n",
        "!pip install pyomo"
      ]
    },
    {
      "cell_type": "code",
      "execution_count": 1,
      "metadata": {
        "colab": {
          "base_uri": "https://localhost:8080/"
        },
        "id": "AOz8SHPujBzt",
        "outputId": "988cbb67-4245-4725-861c-b66d5edb3d56"
      },
      "outputs": [
        {
          "name": "stdout",
          "output_type": "stream",
          "text": [
            "VALUES are in 10000s\n",
            "\n",
            "Optimal Production and Transportation Plan:\n",
            "Send 7.0 units from Plant 1 to DC 1\n",
            "Send 40.0 units from Plant 1 to DC 3\n",
            "Send 15.0 units from Plant 1 to DC 8\n",
            "Send 18.0 units from Plant 1 to DC 9\n",
            "Send 40.0 units from Plant 1 to DC 12\n",
            "Send 13.0 units from Plant 2 to DC 1\n",
            "Send 35.0 units from Plant 2 to DC 4\n",
            "Send 12.0 units from Plant 2 to DC 10\n",
            "Send 30.0 units from Plant 2 to DC 11\n",
            "Send 30.0 units from Plant 3 to DC 2\n",
            "Send 15.0 units from Plant 3 to DC 5\n",
            "Send 19.0 units from Plant 3 to DC 6\n",
            "Send 25.0 units from Plant 3 to DC 7\n",
            "Send 5.0 units from Plant 3 to DC 8\n",
            "\n",
            "Maximum Profit: Rs. 3065.2000000000003\n"
          ]
        }
      ],
      "source": [
        "from pulp import LpMaximize, LpProblem, LpVariable, lpSum\n",
        "\n",
        "model = LpProblem(name=\"maximize_profit\", sense=LpMaximize)\n",
        "\n",
        "\n",
        "plants = [1, 2, 3]\n",
        "distribution_centers = list(range(1, 13))\n",
        "\n",
        "capacity = {1: 120, 2: 90, 3: 100}\n",
        "cost = {1: 8, 2: 7, 3: 9}\n",
        "\n",
        "demand = {1: 20, 2: 30, 3: 40, 4: 35, 5: 15, 6: 19, 7: 25, 8: 20, 9: 18, 10: 12, 11: 30, 12: 40}\n",
        "\n",
        "transport_cost = {\n",
        "    (1,1): 2, (1,2): 3, (1,3): 2, (1,4): 3, (1,5): 5, (1,6): 4.4, (1,7): 3.2, (1,8): 3, (1,9): 1.5, (1,10): 3, (1,11): 6.0, (1,12): 1.0,\n",
        "    (2,1): 1.9, (2,2): 3, (2,3): 2.4, (2,4): 2.4, (2,5): 2, (2,6): 4.1, (2,7): 2.8, (2,8): 3, (2,9): 1.7, (2,10): 2, (2,11): 1.0, (2,12): 4.5,\n",
        "    (3,1): 3.1, (3,2): 1.8, (3,3): 2.8, (3,4): 3.4, (3,5): 2, (3,6): 2.9, (3,7): 2.2, (3,8): 3.2, (3,9): 2, (3,10): 2.8, (3,11): 4.5, (3,12): 6.0\n",
        "}\n",
        "\n",
        "x = {(i, j): LpVariable(name=f\"x_{i}_{j}\", lowBound=0) for i in plants for j in distribution_centers}\n",
        "\n",
        "model += lpSum((20 - cost[i] - transport_cost[i, j]) * x[i, j] for i in plants for j in distribution_centers), \"Total_Profit\"\n",
        "\n",
        "for i in plants:\n",
        "    model += lpSum(x[i, j] for j in distribution_centers) <= capacity[i], f\"Supply_Limit_{i}\"\n",
        "\n",
        "for j in distribution_centers:\n",
        "    model += lpSum(x[i, j] for i in plants) == demand[j], f\"Demand_Fulfillment_{j}\"\n",
        "\n",
        "model.solve()\n",
        "\n",
        "print(\"VALUES are in 10000s\")\n",
        "print(\"\\nOptimal Production and Transportation Plan:\")\n",
        "for i in plants:\n",
        "    for j in distribution_centers:\n",
        "        if x[i, j].value() > 0:\n",
        "            print(f\"Send {x[i, j].value()} units from Plant {i} to DC {j}\")\n",
        "\n",
        "print(f\"\\nMaximum Profit: Rs. {model.objective.value()}\")\n"
      ]
    },
    {
      "cell_type": "code",
      "execution_count": null,
      "metadata": {
        "id": "rGU0w1Gw810U"
      },
      "outputs": [],
      "source": []
    }
  ],
  "metadata": {
    "colab": {
      "provenance": []
    },
    "kernelspec": {
      "display_name": "Python 3",
      "name": "python3"
    },
    "language_info": {
      "codemirror_mode": {
        "name": "ipython",
        "version": 3
      },
      "file_extension": ".py",
      "mimetype": "text/x-python",
      "name": "python",
      "nbconvert_exporter": "python",
      "pygments_lexer": "ipython3",
      "version": "3.12.3"
    }
  },
  "nbformat": 4,
  "nbformat_minor": 0
}
