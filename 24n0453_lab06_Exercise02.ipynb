{
  "cells": [
    {
      "cell_type": "markdown",
      "metadata": {
        "id": "xfWZEe_2yMgT"
      },
      "source": [
        "## 2(3)\n"
      ]
    },
    {
      "cell_type": "code",
      "execution_count": 4,
      "metadata": {},
      "outputs": [],
      "source": [
        "import numpy as np\n",
        "import itertools\n",
        "from itertools import product\n",
        "import gurobipy as gp\n",
        "from gurobipy import GRB"
      ]
    },
    {
      "cell_type": "code",
      "execution_count": 6,
      "metadata": {
        "colab": {
          "base_uri": "https://localhost:8080/"
        },
        "id": "TTnWKKV83LZ2",
        "outputId": "c6b25e8b-df8b-4735-a282-6a5f83c01990"
      },
      "outputs": [
        {
          "name": "stdout",
          "output_type": "stream",
          "text": [
            "Requirement already satisfied: pulp in c:\\users\\dell\\appdata\\local\\programs\\python\\python312\\lib\\site-packages (2.9.0)\n"
          ]
        },
        {
          "name": "stderr",
          "output_type": "stream",
          "text": [
            "\n",
            "[notice] A new release of pip is available: 24.3.1 -> 25.0.1\n",
            "[notice] To update, run: python.exe -m pip install --upgrade pip\n"
          ]
        },
        {
          "name": "stdout",
          "output_type": "stream",
          "text": [
            "Requirement already satisfied: pyomo in c:\\users\\dell\\appdata\\local\\programs\\python\\python312\\lib\\site-packages (6.8.0)\n",
            "Requirement already satisfied: ply in c:\\users\\dell\\appdata\\local\\programs\\python\\python312\\lib\\site-packages (from pyomo) (3.11)\n"
          ]
        },
        {
          "name": "stderr",
          "output_type": "stream",
          "text": [
            "\n",
            "[notice] A new release of pip is available: 24.3.1 -> 25.0.1\n",
            "[notice] To update, run: python.exe -m pip install --upgrade pip\n"
          ]
        }
      ],
      "source": [
        "!pip install pulp\n",
        "!pip install pyomo\n",
        "import numpy as np"
      ]
    },
    {
      "cell_type": "code",
      "execution_count": null,
      "metadata": {
        "colab": {
          "base_uri": "https://localhost:8080/"
        },
        "id": "2PMFBMfvjHpp",
        "outputId": "c9dc18c4-a539-44a3-dc2f-1b99bcdb9c96"
      },
      "outputs": [
        {
          "name": "stdout",
          "output_type": "stream",
          "text": [
            "Probability of demand exceeding total capacity (310): 0.3914\n"
          ]
        }
      ],
      "source": [
        "demand = {\n",
        "    1: 20,\n",
        "    2: 30,\n",
        "    3: 40,\n",
        "    4: 35,\n",
        "    5: 15,\n",
        "    6: 19,\n",
        "    7: 25,\n",
        "    8: 20,\n",
        "    9: 18,\n",
        "    10: 12,\n",
        "    11: 30,\n",
        "    12: 40\n",
        "}\n",
        "\n",
        "capacity = {\n",
        "    1: 120,\n",
        "    2: 90,\n",
        "    3: 100\n",
        "}\n",
        "total_capacity = sum(capacity.values())\n",
        "\n",
        "num_dcs = len(demand)\n",
        "\n",
        "demand_values = np.array(list(demand.values()))\n",
        "\n",
        "multipliers = np.array([0.7, 1.0, 1.3])\n",
        "\n",
        "probabilities = [0.3, 0.4, 0.3]\n",
        "\n",
        "def s_exceed_prob(num_simulations=1000000):\n",
        "\n",
        "    randomChoice = np.random.choice(multipliers, size=(num_simulations, num_dcs), p=probabilities)\n",
        "\n",
        "    simulated_demands = randomChoice * demand_values\n",
        "\n",
        "    total_demands = simulated_demands.sum(axis=1)\n",
        "\n",
        "    prob_exceed = np.mean(total_demands > total_capacity)\n",
        "    return prob_exceed\n",
        "\n",
        "probability_exceed = s_exceed_prob(num_simulations=1000000)\n",
        "print(f\"Probability of demand exceeding total capacity ({total_capacity}): {probability_exceed:.4f}\")\n"
      ]
    },
    {
      "cell_type": "markdown",
      "metadata": {
        "id": "yfPq-Ul0yaQq"
      },
      "source": [
        "## 2(4)"
      ]
    },
    {
      "cell_type": "code",
      "execution_count": 9,
      "metadata": {},
      "outputs": [
        {
          "name": "stdout",
          "output_type": "stream",
          "text": [
            "Gurobi Optimizer version 12.0.0 build v12.0.0rc1 (win64 - Windows 10.0 (19045.2))\n",
            "\n",
            "CPU model: Intel(R) Core(TM) i3-5005U CPU @ 2.00GHz, instruction set [SSE2|AVX|AVX2]\n",
            "Thread count: 2 physical cores, 4 logical processors, using up to 4 threads\n",
            "\n",
            "Optimize a model with 150003 rows, 510003 columns and 900003 nonzeros\n",
            "Model fingerprint: 0xa137d5a5\n",
            "Coefficient statistics:\n",
            "  Matrix range     [1e+00, 1e+00]\n",
            "  Objective range  [5e-04, 9e+00]\n",
            "  Bounds range     [0e+00, 0e+00]\n",
            "  RHS range        [8e+04, 1e+06]\n",
            "Presolve removed 3 rows and 30000 columns\n",
            "Presolve time: 1.87s\n",
            "Presolved: 150000 rows, 480003 columns, 870000 nonzeros\n",
            "\n",
            "Concurrent LP optimizer: dual simplex and barrier\n",
            "Showing barrier log only...\n",
            "\n",
            "Ordering time: 0.10s\n",
            "\n",
            "Barrier statistics:\n",
            " Dense cols : 3\n",
            " AA' NZ     : 3.900e+05\n",
            " Factor NZ  : 1.650e+06 (roughly 270 MB of memory)\n",
            " Factor Ops : 2.095e+07 (less than 1 second per iteration)\n",
            " Threads    : 1\n",
            "\n",
            "                  Objective                Residual\n",
            "Iter       Primal          Dual         Primal    Dual     Compl     Time\n",
            "   0   1.45732435e+08  1.63366243e+07  2.87e+06 6.10e-03  2.29e+05     3s\n",
            "   1   4.11532625e+07  2.75027633e+09  5.42e+05 2.06e-01  5.94e+04     4s\n",
            "   2   3.09187475e+07  1.35832780e+09  4.47e+05 8.13e-03  1.98e+04     4s\n",
            "   3   1.23350711e+07  8.32088742e+08  5.82e-10 4.00e-03  6.76e+03     5s\n",
            "   4   1.46472469e+07  6.98834988e+07  4.66e-10 6.17e-05  4.50e+02     6s\n",
            "   5   2.19136890e+07  3.75000703e+07  2.74e-09 1.65e-05  1.27e+02     6s\n",
            "   6   2.25948147e+07  3.12758521e+07  2.10e-09 3.31e-06  7.04e+01     6s\n",
            "   7   2.62603690e+07  2.99049768e+07  3.43e-09 3.68e-13  2.96e+01     7s\n",
            "   8   2.78969735e+07  2.93452557e+07  2.57e-08 2.65e-13  1.18e+01     8s\n",
            "   9   2.83469045e+07  2.90462993e+07  1.05e-07 1.24e-13  5.71e+00     8s\n",
            "  10   2.84749459e+07  2.89754346e+07  1.27e-07 6.04e-14  4.09e+00     9s\n",
            "  11   2.85214283e+07  2.89275493e+07  1.74e-07 2.14e-13  3.32e+00     9s\n",
            "  12   2.85447606e+07  2.88972067e+07  1.61e-07 0.00e+00  2.88e+00    10s\n",
            "  13   2.85472352e+07  2.88834373e+07  1.50e-07 1.86e-15  2.75e+00    10s\n",
            "  14   2.85682271e+07  2.87779706e+07  2.48e-07 2.81e-13  1.71e+00    10s\n",
            "  15   2.86245593e+07  2.86939221e+07  3.23e-07 2.06e-13  5.66e-01    11s\n",
            "  16   2.86435628e+07  2.86677441e+07  5.53e-07 2.04e-13  1.97e-01    12s\n",
            "  17   2.86514142e+07  2.86592097e+07  1.72e-07 0.00e+00  6.35e-02    12s\n",
            "  18   2.86545908e+07  2.86572016e+07  4.43e-08 3.55e-14  2.13e-02    13s\n",
            "  19   2.86553976e+07  2.86562604e+07  1.40e-08 1.39e-13  7.04e-03    13s\n",
            "  20   2.86557369e+07  2.86559650e+07  1.92e-09 0.00e+00  1.87e-03    14s\n",
            "  21   2.86557933e+07  2.86558141e+07  1.75e-10 4.62e-13  1.70e-04    14s\n",
            "  22   2.86557999e+07  2.86558011e+07  1.75e-10 2.84e-11  9.21e-06    15s\n",
            "  23   2.86558002e+07  2.86558005e+07  2.04e-10 1.46e-11  1.76e-06    16s\n",
            "  24   2.86558003e+07  2.86558003e+07  6.40e-10 1.94e-12  8.06e-09    16s\n",
            "\n",
            "Barrier solved model in 24 iterations and 16.38 seconds (3.20 work units)\n",
            "Optimal objective 2.86558003e+07\n",
            "\n",
            "Crossover log...\n",
            "\n",
            "    3336 DPushes remaining with DInf 0.0000000e+00                20s\n",
            "       0 DPushes remaining with DInf 0.0000000e+00                20s\n",
            "\n",
            "  264324 PPushes remaining with PInf 4.8680074e-03                20s\n",
            "       0 PPushes remaining with PInf 0.0000000e+00                21s\n",
            "\n",
            "  Push phase complete: Pinf 0.0000000e+00, Dinf 3.4664000e-01     21s\n",
            "\n",
            "Iteration    Objective       Primal Inf.    Dual Inf.      Time\n",
            "  267653    2.8652558e+07   0.000000e+00   3.466400e-01     22s\n",
            "\n",
            "Solved with barrier\n",
            "  272159    2.8655800e+07   0.000000e+00   0.000000e+00     23s\n",
            "\n",
            "Solved in 272159 iterations and 22.77 seconds (3.96 work units)\n",
            "Optimal objective  2.865580026e+07\n",
            "\n",
            "Optimal Expected Profit: 28655800.26315013\n",
            "\n",
            "Optimal Production Quantities:\n",
            "Factory 1: 1200000.0 units\n",
            "Factory 2: 900000.0 units\n",
            "Factory 3: 1000000.0 units\n",
            "\n",
            "Sample Shipment Plan for Scenario 0:\n",
            "Ship 520000.0 units from Factory 1 to Destination 3\n",
            "Ship 144000.0 units from Factory 1 to Destination 8\n",
            "Ship 234000.0 units from Factory 1 to Destination 9\n",
            "Ship 280000.0 units from Factory 1 to Destination 12\n",
            "Ship 200000.0 units from Factory 2 to Destination 1\n",
            "Ship 350000.0 units from Factory 2 to Destination 4\n",
            "Ship 56000.0 units from Factory 2 to Destination 8\n",
            "Ship 84000.0 units from Factory 2 to Destination 10\n",
            "Ship 210000.0 units from Factory 2 to Destination 11\n",
            "Ship 210000.0 units from Factory 3 to Destination 2\n",
            "Ship 150000.0 units from Factory 3 to Destination 5\n",
            "Ship 133000.0 units from Factory 3 to Destination 6\n",
            "Ship 250000.0 units from Factory 3 to Destination 7\n",
            "\n",
            "Sample Unsold for Scenario 0:\n",
            "\n",
            "Sample Lost Sales for Scenario 0:\n"
          ]
        }
      ],
      "source": [
        "factories = [1, 2, 3]\n",
        "destinations = list(range(1, 13))\n",
        "n_scen = 10000\n",
        "all_scen = list(itertools.product(['low', 'medium', 'high'], repeat=12))\n",
        "sample_indices = np.random.choice(range(len(all_scen)), size=n_scen, replace=False)\n",
        "scen_data = []\n",
        "for idx in sample_indices:\n",
        "    scn = {}\n",
        "    for j in destinations:\n",
        "        r = np.random.rand()\n",
        "        med = {1: 200000, 2: 300000, 3: 400000, 4: 350000, 5: 150000, 6: 190000, 7: 250000, 8: 200000, 9: 180000, 10: 120000, 11: 300000, 12: 400000}[j]\n",
        "        if r < 0.3:\n",
        "            scn[j] = int(0.7 * med)\n",
        "        elif r < 0.7:\n",
        "            scn[j] = med\n",
        "        else:\n",
        "            scn[j] = int(1.3 * med)\n",
        "    scen_data.append(scn)\n",
        "scen_prob = 1.0 / n_scen\n",
        "\n",
        "cap = {1: 1200000, 2: 900000, 3: 1000000}\n",
        "cost_prod = {1: 8, 2: 7, 3: 9}\n",
        "selling_price = 20\n",
        "salvage_val = 5\n",
        "penalty_val = 7\n",
        "ship_cost = {\n",
        "    (1, 1): 2, (1, 2): 3, (1, 3): 2, (1, 4): 3, (1, 5): 5, (1, 6): 4.4, (1, 7): 3.2, (1, 8): 3, (1, 9): 1.5, (1, 10): 3, (1, 11): 6.0, (1, 12): 1.0,\n",
        "    (2, 1): 1.9, (2, 2): 3, (2, 3): 2.4, (2, 4): 2.4, (2, 5): 2, (2, 6): 4.1, (2, 7): 2.8, (2, 8): 3, (2, 9): 1.7, (2, 10): 2, (2, 11): 1.0, (2, 12): 4.5,\n",
        "    (3, 1): 3.1, (3, 2): 1.8, (3, 3): 2.8, (3, 4): 3.4, (3, 5): 2, (3, 6): 2.9, (3, 7): 2.2, (3, 8): 3.2, (3, 9): 2, (3, 10): 2.8, (3, 11): 4.5, (3, 12): 6.0\n",
        "}\n",
        "\n",
        "mdl = gp.Model(\"StochOpt\")\n",
        "prod_vars = mdl.addVars(factories, vtype=GRB.CONTINUOUS, name=\"prod\")\n",
        "ship_vars = mdl.addVars(n_scen, factories, destinations, vtype=GRB.CONTINUOUS, name=\"ship\")\n",
        "unsold_vars = mdl.addVars(n_scen, factories, vtype=GRB.CONTINUOUS, name=\"unsold\")\n",
        "lost_vars = mdl.addVars(n_scen, destinations, vtype=GRB.CONTINUOUS, name=\"lost\")\n",
        "\n",
        "mdl.setObjective(\n",
        "    gp.quicksum(\n",
        "        scen_prob * (\n",
        "            gp.quicksum(selling_price * ship_vars[s, i, j] for i in factories for j in destinations)\n",
        "            - gp.quicksum(cost_prod[i] * prod_vars[i] for i in factories)\n",
        "            - gp.quicksum(ship_cost[i, j] * ship_vars[s, i, j] for i in factories for j in destinations)\n",
        "            - gp.quicksum(salvage_val * unsold_vars[s, i] for i in factories)\n",
        "            - gp.quicksum(penalty_val * lost_vars[s, j] for j in destinations)\n",
        "        ) for s in range(n_scen)\n",
        "    ),\n",
        "    GRB.MAXIMIZE\n",
        ")\n",
        "\n",
        "for i in factories:\n",
        "    mdl.addConstr(prod_vars[i] <= cap[i])\n",
        "for s in range(n_scen):\n",
        "    for i in factories:\n",
        "        mdl.addConstr(gp.quicksum(ship_vars[s, i, j] for j in destinations) + unsold_vars[s, i] <= prod_vars[i])\n",
        "for s in range(n_scen):\n",
        "    for j in destinations:\n",
        "        mdl.addConstr(gp.quicksum(ship_vars[s, i, j] for i in factories) + lost_vars[s, j] == scen_data[s][j])\n",
        "mdl.optimize()\n",
        "if mdl.status == GRB.OPTIMAL:\n",
        "    print(f\"\\nOptimal Expected Profit: {mdl.objVal}\")\n",
        "    print(\"\\nOptimal Production Quantities:\")\n",
        "    for i in factories:\n",
        "        print(f\"Factory {i}: {prod_vars[i].x} units\")\n",
        "    print(\"\\nSample Shipment Plan for Scenario 0:\")\n",
        "    for i in factories:\n",
        "        for j in destinations:\n",
        "            if ship_vars[0, i, j].x > 0:\n",
        "                print(f\"Ship {ship_vars[0, i, j].x} units from Factory {i} to Destination {j}\")\n",
        "    print(\"\\nSample Unsold for Scenario 0:\")\n",
        "    for i in factories:\n",
        "        if unsold_vars[0, i].x > 0:\n",
        "            print(f\"Factory {i} unsold: {unsold_vars[0, i].x} units\")\n",
        "    print(\"\\nSample Lost Sales for Scenario 0:\")\n",
        "    for j in destinations:\n",
        "        if lost_vars[0, j].x > 0:\n",
        "            print(f\"Destination {j} lost sales: {lost_vars[0, j].x} units\")\n",
        "else:\n",
        "    print(\"No optimal solution found.\")\n"
      ]
    },
    {
      "cell_type": "markdown",
      "metadata": {
        "id": "IFoCyMFByci2"
      },
      "source": [
        "## 2(5)"
      ]
    },
    {
      "cell_type": "markdown",
      "metadata": {
        "id": "p611Vxi37GTA"
      },
      "source": [
        "Comparison of Production Quantities at the Three Plants:\n",
        "\n",
        "(values are in 10000s)\n",
        "\n",
        "| Plant | Deterministic LP | Stochastic LP (SAA) |\n",
        "|-------|------------------|---------------------|\n",
        "| 1     | 120.00           | 120.00              |\n",
        "| 2     | 90.00            | 90.00               |\n",
        "| 3     | 94.00            | 100.00              |\n"
      ]
    }
  ],
  "metadata": {
    "colab": {
      "provenance": []
    },
    "kernelspec": {
      "display_name": "Python 3",
      "name": "python3"
    },
    "language_info": {
      "codemirror_mode": {
        "name": "ipython",
        "version": 3
      },
      "file_extension": ".py",
      "mimetype": "text/x-python",
      "name": "python",
      "nbconvert_exporter": "python",
      "pygments_lexer": "ipython3",
      "version": "3.12.3"
    }
  },
  "nbformat": 4,
  "nbformat_minor": 0
}
