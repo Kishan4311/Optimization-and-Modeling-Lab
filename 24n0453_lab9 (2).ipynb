{
  "nbformat": 4,
  "nbformat_minor": 0,
  "metadata": {
    "colab": {
      "provenance": []
    },
    "kernelspec": {
      "name": "python3",
      "display_name": "Python 3"
    },
    "language_info": {
      "name": "python"
    }
  },
  "cells": [
    {
      "cell_type": "markdown",
      "source": [
        "## Ques 1"
      ],
      "metadata": {
        "id": "Zqo7jjLOqVCb"
      }
    },
    {
      "cell_type": "code",
      "source": [
        "!apt-get install -y glpk-utils\n",
        "!pip install pyomo\n",
        "!pip install nashpy"
      ],
      "metadata": {
        "colab": {
          "base_uri": "https://localhost:8080/"
        },
        "id": "T7LkEkGZ61BI",
        "outputId": "e2480583-6285-49ee-93d1-d1b5fb6b6e16"
      },
      "execution_count": 6,
      "outputs": [
        {
          "output_type": "stream",
          "name": "stdout",
          "text": [
            "Reading package lists... Done\n",
            "Building dependency tree... Done\n",
            "Reading state information... Done\n",
            "glpk-utils is already the newest version (5.0-1).\n",
            "0 upgraded, 0 newly installed, 0 to remove and 29 not upgraded.\n",
            "Requirement already satisfied: pyomo in /usr/local/lib/python3.11/dist-packages (6.8.2)\n",
            "Requirement already satisfied: ply in /usr/local/lib/python3.11/dist-packages (from pyomo) (3.11)\n",
            "Requirement already satisfied: nashpy in /usr/local/lib/python3.11/dist-packages (0.0.41)\n",
            "Requirement already satisfied: numpy>=1.21.0 in /usr/local/lib/python3.11/dist-packages (from nashpy) (2.0.2)\n",
            "Requirement already satisfied: scipy>=0.19.0 in /usr/local/lib/python3.11/dist-packages (from nashpy) (1.14.1)\n",
            "Requirement already satisfied: networkx>=3.0.0 in /usr/local/lib/python3.11/dist-packages (from nashpy) (3.4.2)\n",
            "Requirement already satisfied: deprecated>=1.2.14 in /usr/local/lib/python3.11/dist-packages (from nashpy) (1.2.18)\n",
            "Requirement already satisfied: wrapt<2,>=1.10 in /usr/local/lib/python3.11/dist-packages (from deprecated>=1.2.14->nashpy) (1.17.2)\n"
          ]
        }
      ]
    },
    {
      "cell_type": "code",
      "source": [
        "import numpy as np\n",
        "import nashpy as nash\n",
        "A = np.array([[2, 4, 0],\n",
        "              [1, 1, 4],\n",
        "              [0, 8, 7]])\n",
        "print(\"Payoff matrix A:\")\n",
        "print(A)\n",
        "game = nash.Game(A, -A)\n",
        "equilibria = list(game.support_enumeration())\n",
        "for i in equilibria:\n",
        "    print(\"\\nEquilibrium found:\")\n",
        "    print(\"Row player's strategy:\", i[0])\n",
        "    print(\"Column player's strategy:\", i[1])\n",
        "    value = i[0].dot(A).dot(i[1])\n",
        "    print(\"Value of the game (for the row player):\", value)"
      ],
      "metadata": {
        "colab": {
          "base_uri": "https://localhost:8080/"
        },
        "id": "oGxmp_gt9f_9",
        "outputId": "bbb96f4d-21d0-4255-b663-9462a70ae055"
      },
      "execution_count": 14,
      "outputs": [
        {
          "output_type": "stream",
          "name": "stdout",
          "text": [
            "Payoff matrix A:\n",
            "[[2 4 0]\n",
            " [1 1 4]\n",
            " [0 8 7]]\n",
            "\n",
            "Equilibrium found:\n",
            "Row player's strategy: [0.6 0.4 0. ]\n",
            "Column player's strategy: [ 0.8 -0.   0.2]\n",
            "Value of the game (for the row player): 1.6000000000000003\n"
          ]
        }
      ]
    },
    {
      "cell_type": "code",
      "source": [
        "from pyomo.environ import *\n",
        "\n",
        "def solve_zero_sum_game_pyomo(A):\n",
        "    n, m = A.shape\n",
        "    model_r = ConcreteModel()\n",
        "    model_r.I = RangeSet(0, n-1)\n",
        "    model_r.x = Var(model_r.I, within=NonNegativeReals)\n",
        "    model_r.z = Var(within=Reals)\n",
        "    def obj_r(model):\n",
        "        return model_r.z\n",
        "    model_r.obj = Objective(rule=obj_r, sense=maximize)\n",
        "    model_r.J = RangeSet(0, m-1)\n",
        "    def saddle_r(model, j):\n",
        "        return model_r.z - sum(A[i,j]*model_r.x[i] for i in model_r.I) <= 0\n",
        "    model_r.saddle = Constraint(model_r.J, rule=saddle_r)\n",
        "    def sum_x(model):\n",
        "        return sum(model_r.x[i] for i in model_r.I) == 1\n",
        "    model_r.sum_x = Constraint(rule=sum_x)\n",
        "    SolverFactory('glpk').solve(model_r)\n",
        "    x_opt = np.array([model_r.x[i].value for i in model_r.I])\n",
        "    z_opt = model_r.z.value\n",
        "    model_c = ConcreteModel()\n",
        "    model_c.J = RangeSet(0, m-1)\n",
        "    model_c.y = Var(model_c.J, within=NonNegativeReals)\n",
        "    model_c.w = Var(within=Reals)\n",
        "\n",
        "\n",
        "    def obj_c(model):\n",
        "        return model_c.w\n",
        "    model_c.obj = Objective(rule=obj_c, sense=minimize)\n",
        "    model_c.I = RangeSet(0, n-1)\n",
        "    def saddle_c(model, i):\n",
        "        return model_c.w - sum(A[i,j]*model_c.y[j] for j in model_c.J) >= 0\n",
        "    model_c.saddle = Constraint(model_c.I, rule=saddle_c)\n",
        "    def sum_y(model):\n",
        "        return sum(model_c.y[j] for j in model_c.J) == 1\n",
        "    model_c.sum_y = Constraint(rule=sum_y)\n",
        "    SolverFactory('glpk').solve(model_c)\n",
        "    y_opt = np.array([model_c.y[j].value for j in model_c.J])\n",
        "    w_opt = model_c.w.value\n",
        "    return x_opt, z_opt, y_opt, w_opt\n",
        "\n",
        "\n",
        "\n",
        "\n",
        "A = np.array([[2, 4, 0],\n",
        "              [1, 1, 4],\n",
        "              [0, 8, 7]])\n",
        "\n",
        "x_opt, z_opt, y_opt, w_opt = solve_zero_sum_game_pyomo(A)\n",
        "\n",
        "print(\"Optimal mixed strategy for the row player:\", x_opt)\n",
        "print(\"Value of the game (for the row player):\", z_opt)\n",
        "print()\n",
        "print(\"Optimal mixed strategy for the col player:\", y_opt)\n",
        "print(\"Value of the game (for the col player):\", w_opt)\n",
        "\n"
      ],
      "metadata": {
        "id": "bXOgBKFL6tZZ",
        "colab": {
          "base_uri": "https://localhost:8080/"
        },
        "outputId": "0435f3a3-5187-4dca-fb78-2899bb4cc0d5"
      },
      "execution_count": 15,
      "outputs": [
        {
          "output_type": "stream",
          "name": "stdout",
          "text": [
            "Optimal mixed strategy for the row player: [0.6 0.4 0. ]\n",
            "Value of the game (for the row player): 1.6\n",
            "\n",
            "Optimal mixed strategy for the col player: [0.8 0.  0.2]\n",
            "Value of the game (for the col player): 1.6\n"
          ]
        }
      ]
    },
    {
      "cell_type": "markdown",
      "source": [
        "## Ques 2"
      ],
      "metadata": {
        "id": "E8ZS1WakqYE2"
      }
    },
    {
      "cell_type": "code",
      "source": [
        "import pandas as pd\n",
        "\n",
        "def fictitious_play(A, T=10000):\n",
        "    n, m = A.shape\n",
        "    row_counts = np.zeros(n)\n",
        "    col_counts = np.zeros(m)\n",
        "    row_action = np.random.choice(n)\n",
        "    col_action = np.random.choice(m)\n",
        "    row_counts[row_action] += 1\n",
        "    col_counts[col_action] += 1\n",
        "    records = []\n",
        "\n",
        "    for t in range(1, T + 1):\n",
        "        row_dist = row_counts / np.sum(row_counts)\n",
        "        col_dist = col_counts / np.sum(col_counts)\n",
        "        row_payoffs = A.dot(col_dist)\n",
        "        col_payoffs = -A.T.dot(row_dist)\n",
        "        row_action = np.argmax(row_payoffs)\n",
        "        col_action = np.argmax(col_payoffs)\n",
        "        row_counts[row_action] += 1\n",
        "        col_counts[col_action] += 1\n",
        "\n",
        "        if t <= 50 or t > T - 50:\n",
        "            records.append((t, row_action, col_action, row_dist.copy(), col_dist.copy()))\n",
        "\n",
        "    final_row_dist = row_counts / np.sum(row_counts)\n",
        "    final_col_dist = col_counts / np.sum(col_counts)\n",
        "    value = final_row_dist.dot(A).dot(final_col_dist)\n",
        "\n",
        "    return records, final_row_dist, final_col_dist, value\n",
        "\n",
        "\n",
        "\n",
        "A = np.array([[2, 4, 0],\n",
        "              [1, 1, 4],\n",
        "              [0, 8, 7]])\n",
        "\n",
        "table, row_strategy, col_strategy, val = fictitious_play(A, T=10000)\n",
        "\n",
        "df = pd.DataFrame(\n",
        "    table,\n",
        "    columns=[\"Iteration\", \"RowAction BR\", \"ColAction BR\", \"RowDistribution\", \"ColDistribution\"]\n",
        ")\n",
        "df[\"RowDistribution\"] = df[\"RowDistribution\"].apply(lambda arr: np.array2string(np.round(arr, 3), separator=','))\n",
        "df[\"ColDistribution\"] = df[\"ColDistribution\"].apply(lambda arr: np.array2string(np.round(arr, 3), separator=','))\n",
        "\n",
        "print(\"Payoff matrix A:\")\n",
        "print(A, \"\\n\")\n",
        "\n",
        "print(\"=== Final Results ===\")\n",
        "print(\"Estimated Row Strategy:\", np.round(row_strategy, 3))\n",
        "print(\"Estimated Column Strategy:\", np.round(col_strategy, 3))\n",
        "print(\"Estimated Value of the Game:\", round(val, 3), \"\\n\")\n",
        "\n",
        "print(\"=== Fictitious Play Iteration Records  ===\\n\")\n",
        "print(df.to_string(index=False))"
      ],
      "metadata": {
        "colab": {
          "base_uri": "https://localhost:8080/"
        },
        "id": "S6tsgWLL1XB6",
        "outputId": "d5cd4646-ed4e-4332-fda8-fefc825bf001"
      },
      "execution_count": 13,
      "outputs": [
        {
          "output_type": "stream",
          "name": "stdout",
          "text": [
            "Payoff matrix A:\n",
            "[[2 4 0]\n",
            " [1 1 4]\n",
            " [0 8 7]] \n",
            "\n",
            "=== Final Results ===\n",
            "Estimated Row Strategy: [0.593 0.404 0.003]\n",
            "Estimated Column Strategy: [0.798 0.    0.202]\n",
            "Estimated Value of the Game: 1.6 \n",
            "\n",
            "=== Fictitious Play Iteration Records  ===\n",
            "\n",
            " Iteration  RowAction BR  ColAction BR     RowDistribution     ColDistribution\n",
            "         1             2             0          [0.,1.,0.]          [0.,1.,0.]\n",
            "         2             2             0       [0. ,0.5,0.5]       [0.5,0.5,0. ]\n",
            "         3             0             0 [0.   ,0.333,0.667] [0.667,0.333,0.   ]\n",
            "         4             0             0    [0.25,0.25,0.5 ]    [0.75,0.25,0.  ]\n",
            "         5             0             0       [0.4,0.2,0.4]       [0.8,0.2,0. ]\n",
            "         6             0             0 [0.5  ,0.167,0.333] [0.833,0.167,0.   ]\n",
            "         7             0             0 [0.571,0.143,0.286] [0.857,0.143,0.   ]\n",
            "         8             0             0 [0.625,0.125,0.25 ] [0.875,0.125,0.   ]\n",
            "         9             0             0 [0.667,0.111,0.222] [0.889,0.111,0.   ]\n",
            "        10             0             0       [0.7,0.1,0.2]       [0.9,0.1,0. ]\n",
            "        11             0             0 [0.727,0.091,0.182] [0.909,0.091,0.   ]\n",
            "        12             0             2 [0.75 ,0.083,0.167] [0.917,0.083,0.   ]\n",
            "        13             0             2 [0.769,0.077,0.154] [0.846,0.077,0.077]\n",
            "        14             0             2 [0.786,0.071,0.143] [0.786,0.071,0.143]\n",
            "        15             2             2 [0.8  ,0.067,0.133] [0.733,0.067,0.2  ]\n",
            "        16             2             0 [0.75 ,0.062,0.188] [0.688,0.062,0.25 ]\n",
            "        17             2             0 [0.706,0.059,0.235] [0.706,0.059,0.235]\n",
            "        18             2             0 [0.667,0.056,0.278] [0.722,0.056,0.222]\n",
            "        19             2             0 [0.632,0.053,0.316] [0.737,0.053,0.211]\n",
            "        20             2             0    [0.6 ,0.05,0.35]    [0.75,0.05,0.2 ]\n",
            "        21             0             0 [0.571,0.048,0.381] [0.762,0.048,0.19 ]\n",
            "        22             0             0 [0.591,0.045,0.364] [0.773,0.045,0.182]\n",
            "        23             0             0 [0.609,0.043,0.348] [0.783,0.043,0.174]\n",
            "        24             0             0 [0.625,0.042,0.333] [0.792,0.042,0.167]\n",
            "        25             0             0    [0.64,0.04,0.32]    [0.8 ,0.04,0.16]\n",
            "        26             0             0 [0.654,0.038,0.308] [0.808,0.038,0.154]\n",
            "        27             0             0 [0.667,0.037,0.296] [0.815,0.037,0.148]\n",
            "        28             0             0 [0.679,0.036,0.286] [0.821,0.036,0.143]\n",
            "        29             0             0 [0.69 ,0.034,0.276] [0.828,0.034,0.138]\n",
            "        30             0             0 [0.7  ,0.033,0.267] [0.833,0.033,0.133]\n",
            "        31             0             0 [0.71 ,0.032,0.258] [0.839,0.032,0.129]\n",
            "        32             0             0 [0.719,0.031,0.25 ] [0.844,0.031,0.125]\n",
            "        33             0             0 [0.727,0.03 ,0.242] [0.848,0.03 ,0.121]\n",
            "        34             0             0 [0.735,0.029,0.235] [0.853,0.029,0.118]\n",
            "        35             0             0 [0.743,0.029,0.229] [0.857,0.029,0.114]\n",
            "        36             0             0 [0.75 ,0.028,0.222] [0.861,0.028,0.111]\n",
            "        37             0             0 [0.757,0.027,0.216] [0.865,0.027,0.108]\n",
            "        38             0             0 [0.763,0.026,0.211] [0.868,0.026,0.105]\n",
            "        39             0             2 [0.769,0.026,0.205] [0.872,0.026,0.103]\n",
            "        40             0             2 [0.775,0.025,0.2  ] [0.85 ,0.025,0.125]\n",
            "        41             0             2 [0.78 ,0.024,0.195] [0.829,0.024,0.146]\n",
            "        42             0             2 [0.786,0.024,0.19 ] [0.81 ,0.024,0.167]\n",
            "        43             0             2 [0.791,0.023,0.186] [0.791,0.023,0.186]\n",
            "        44             0             2 [0.795,0.023,0.182] [0.773,0.023,0.205]\n",
            "        45             2             2 [0.8  ,0.022,0.178] [0.756,0.022,0.222]\n",
            "        46             2             2 [0.783,0.022,0.196] [0.739,0.022,0.239]\n",
            "        47             2             0 [0.766,0.021,0.213] [0.723,0.021,0.255]\n",
            "        48             2             0 [0.75 ,0.021,0.229] [0.729,0.021,0.25 ]\n",
            "        49             2             0 [0.735,0.02 ,0.245] [0.735,0.02 ,0.245]\n",
            "        50             2             0    [0.72,0.02,0.26]    [0.74,0.02,0.24]\n",
            "      9951             1             0 [0.596,0.401,0.003] [0.797,0.   ,0.203]\n",
            "      9952             1             0 [0.596,0.401,0.003] [0.797,0.   ,0.203]\n",
            "      9953             1             0 [0.596,0.401,0.003] [0.797,0.   ,0.203]\n",
            "      9954             1             0 [0.596,0.401,0.003] [0.797,0.   ,0.203]\n",
            "      9955             1             0 [0.596,0.401,0.003] [0.797,0.   ,0.203]\n",
            "      9956             1             0 [0.596,0.401,0.003] [0.797,0.   ,0.203]\n",
            "      9957             1             0 [0.596,0.401,0.003] [0.797,0.   ,0.203]\n",
            "      9958             1             0 [0.596,0.401,0.003] [0.797,0.   ,0.203]\n",
            "      9959             1             0 [0.596,0.401,0.003] [0.797,0.   ,0.203]\n",
            "      9960             1             0 [0.596,0.401,0.003] [0.797,0.   ,0.203]\n",
            "      9961             1             0 [0.596,0.401,0.003] [0.797,0.   ,0.202]\n",
            "      9962             1             0 [0.596,0.401,0.003] [0.797,0.   ,0.202]\n",
            "      9963             1             0 [0.596,0.401,0.003] [0.797,0.   ,0.202]\n",
            "      9964             1             0 [0.596,0.401,0.003] [0.797,0.   ,0.202]\n",
            "      9965             1             0 [0.595,0.401,0.003] [0.797,0.   ,0.202]\n",
            "      9966             1             0 [0.595,0.401,0.003] [0.798,0.   ,0.202]\n",
            "      9967             1             0 [0.595,0.402,0.003] [0.798,0.   ,0.202]\n",
            "      9968             1             0 [0.595,0.402,0.003] [0.798,0.   ,0.202]\n",
            "      9969             1             0 [0.595,0.402,0.003] [0.798,0.   ,0.202]\n",
            "      9970             1             0 [0.595,0.402,0.003] [0.798,0.   ,0.202]\n",
            "      9971             1             0 [0.595,0.402,0.003] [0.798,0.   ,0.202]\n",
            "      9972             1             0 [0.595,0.402,0.003] [0.798,0.   ,0.202]\n",
            "      9973             1             0 [0.595,0.402,0.003] [0.798,0.   ,0.202]\n",
            "      9974             1             0 [0.595,0.402,0.003] [0.798,0.   ,0.202]\n",
            "      9975             1             0 [0.595,0.402,0.003] [0.798,0.   ,0.202]\n",
            "      9976             1             0 [0.595,0.402,0.003] [0.798,0.   ,0.202]\n",
            "      9977             1             0 [0.595,0.402,0.003] [0.798,0.   ,0.202]\n",
            "      9978             1             0 [0.595,0.402,0.003] [0.798,0.   ,0.202]\n",
            "      9979             1             0 [0.595,0.402,0.003] [0.798,0.   ,0.202]\n",
            "      9980             1             0 [0.595,0.402,0.003] [0.798,0.   ,0.202]\n",
            "      9981             1             0 [0.595,0.402,0.003] [0.798,0.   ,0.202]\n",
            "      9982             1             0 [0.594,0.402,0.003] [0.798,0.   ,0.202]\n",
            "      9983             1             0 [0.594,0.402,0.003] [0.798,0.   ,0.202]\n",
            "      9984             1             0 [0.594,0.403,0.003] [0.798,0.   ,0.202]\n",
            "      9985             1             0 [0.594,0.403,0.003] [0.798,0.   ,0.202]\n",
            "      9986             1             0 [0.594,0.403,0.003] [0.798,0.   ,0.202]\n",
            "      9987             1             0 [0.594,0.403,0.003] [0.798,0.   ,0.202]\n",
            "      9988             1             0 [0.594,0.403,0.003] [0.798,0.   ,0.202]\n",
            "      9989             1             0 [0.594,0.403,0.003] [0.798,0.   ,0.202]\n",
            "      9990             1             0 [0.594,0.403,0.003] [0.798,0.   ,0.202]\n",
            "      9991             1             0 [0.594,0.403,0.003] [0.798,0.   ,0.202]\n",
            "      9992             1             0 [0.594,0.403,0.003] [0.798,0.   ,0.202]\n",
            "      9993             1             0 [0.594,0.403,0.003] [0.798,0.   ,0.202]\n",
            "      9994             1             0 [0.594,0.403,0.003] [0.798,0.   ,0.202]\n",
            "      9995             1             0 [0.594,0.403,0.003] [0.798,0.   ,0.202]\n",
            "      9996             1             0 [0.594,0.403,0.003] [0.798,0.   ,0.202]\n",
            "      9997             1             0 [0.594,0.403,0.003] [0.798,0.   ,0.202]\n",
            "      9998             1             0 [0.594,0.403,0.003] [0.798,0.   ,0.202]\n",
            "      9999             1             0 [0.593,0.403,0.003] [0.798,0.   ,0.202]\n",
            "     10000             1             0 [0.593,0.404,0.003] [0.798,0.   ,0.202]\n"
          ]
        }
      ]
    }
  ]
}